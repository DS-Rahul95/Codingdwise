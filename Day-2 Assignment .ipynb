{
 "cells": [
  {
   "attachments": {
    "image-2.png": {
     "image/png": "[encoded data removed]"
    }
   },
   "cell_type": "markdown",
   "id": "2b8da29a",
   "metadata": {},
   "source": [
    "Multiple Choice Questions (Choose the correct answer)\n",
    "1. What symbol is used to start a single-line comment in Python?\n",
    "   - a) `//`\n",
    "   - b) `/*`\n",
    "   - c) #\n",
    "   - d) `<!--`\n",
    "   \n",
    "   Ans. c) #\n",
    "   \n",
    "\n",
    "2. Which of these is a valid variable assignment in Python?\n",
    "   - a) `2nd_number = 10`\n",
    "   - b) `number-2 = 10`\n",
    "   - c) `number_two = 10`\n",
    "   - d) `number.2 = 10`\n",
    "   \n",
    "   Ans. c) `number_two = 10`\n",
    "   \n",
    "\n",
    "3. What data type in Python is used to represent whole numbers?\n",
    "   - a) String\n",
    "   - b) Integer\n",
    "   - c) Character\n",
    "   - d) Float\n",
    "   \n",
    "   Ans. b) Integer\n",
    "   \n",
    "\n",
    "4. In Python, what does the term \"dynamic typing\" mean?\n",
    "   - a) Variables can change types during execution.\n",
    "   - b) The type of a variable is checked at compile time.\n",
    "   - c) Variables must be typed dynamically on the keyboard.\n",
    "   - d) The type of a variable cannot be inferred by the interpreter.\n",
    "   \n",
    "   Ans.  a) Variables can change types during execution.\n",
    "   \n",
    "\n",
    "5. Which of these is not a Python data type?\n",
    "   - a) `list`\n",
    "   - b) `str`\n",
    "   - c) `int`\n",
    "   - d) `perform`\n",
    "   \n",
    "    Ans.  d) `perform`\n",
    "    \n",
    "\n",
    "Fill in the Blanks\n",
    "1. In Python, a variable's value can be changed after it has been created, making variables _Mutable__. \n",
    "2. To write a multi-line comment in Python, a common practice is to use _triple quotes (\"\" \" or ''')_ at the beginning of each line. # triple quotes (\"\" \" or ''')\n",
    "\n",
    "True/False\n",
    "1. A variable name in Python can begin with a number. #False\n",
    "2. Triple-quoted strings (`'''` or `\"\"\"`) are often used as single-line comments in Python. # False\n",
    "\n",
    "\n",
    "Match the Columns\n",
    "Match the terms in Column A with their descriptions in Column B.\n",
    "\n",
    "![image-2.png](attachment:image-2.png)\n",
    "\n",
    "\n",
    "\n",
    "Theory + Practical Code Based Questions\n",
    "\n",
    "### Question 1: Variable Assignment and Usage\n",
    "- Theory: Explain the process of variable assignment in Python. What rules should be followed while naming a variable?\n",
    "\n",
    "- Practical: Write a Python code to assign the value `10` to a variable named `my_number` and then print the value of `my_number`.\n",
    "\n",
    "#### Variable Assignment in Python\n",
    "In variable assignment we assign a name (the variable) with a value to store and manipulate data in programs.\n",
    "\n",
    "#### Variable Naming Rules:\n",
    "\n",
    "    1.Variable names can contain letters (a-z, A-Z), digits (0-9), and underscores (_).\n",
    "    2.Variable names cannot begin with a digit.\n",
    "    3.Variable names are case-sensitive.\n",
    "    4.Variable names cannot be Python keywords or reserved words.\n"
   ]
  },
  {
   "cell_type": "code",
   "execution_count": 1,
   "id": "1df6b666",
   "metadata": {},
   "outputs": [
    {
     "name": "stdout",
     "output_type": "stream",
     "text": [
      "The value of my_number is: 10\n"
     ]
    }
   ],
   "source": [
    "my_number = 10\n",
    "print(\"The value of my_number is:\", my_number)"
   ]
  },
  {
   "cell_type": "markdown",
   "id": "da9eae6f",
   "metadata": {},
   "source": [
    "### Question 2: Understanding Data Types\n",
    "\n",
    "Theory: Describe the difference between integers and floating-point numbers in Python.\n",
    "\n",
    "Practical: Create two variables, `whole_number` assigned with an integer and `decimal_number` assigned with a floating-point number. Print their values.\n"
   ]
  },
  {
   "cell_type": "markdown",
   "id": "365b990f",
   "metadata": {},
   "source": [
    "#### Integers:\n",
    "\n",
    "    - Integers are whole numbers, positive or negative, without any decimal point.\n",
    "\n",
    "#### Floating-Point Numbers:\n",
    "\n",
    "    - Floating-point numbers, or floats, represent real numbers with a decimal point"
   ]
  },
  {
   "cell_type": "code",
   "execution_count": 2,
   "id": "099f1516",
   "metadata": {},
   "outputs": [
    {
     "name": "stdout",
     "output_type": "stream",
     "text": [
      "Value of whole_number: 10\n",
      "Value of decimal_number: 3.14\n"
     ]
    }
   ],
   "source": [
    "whole_number = 10\n",
    "decimal_number = 3.14\n",
    "print(\"Value of whole_number:\", whole_number)\n",
    "print(\"Value of decimal_number:\", decimal_number)"
   ]
  },
  {
   "cell_type": "markdown",
   "id": "376f4ae5",
   "metadata": {},
   "source": [
    "### Question 3: Strings in Python\n",
    "\n",
    " Theory: What is a string in Python, and how is it different from a character?\n",
    "\n",
    " Practical: Define a string variable named `greeting` with the value `\"Hello, world!\"`. Print the variable value"
   ]
  },
  {
   "cell_type": "markdown",
   "id": "f3d8a3af",
   "metadata": {},
   "source": [
    "#### Strings in Python:\n",
    "\n",
    "    String can contain multiple characters and enclosed within either single quotes (' '), double quotes (\" \"), or triple quotes (''' ''')\n",
    "    \n",
    "    Example- \"Hello, world!\"\n",
    "    \n",
    "#### Character in Python:\n",
    "\n",
    "    A character in Python is a single Unicode character.\n",
    "    \n",
    "    Example- 'H'\n",
    "    \n",
    "     "
   ]
  },
  {
   "cell_type": "code",
   "execution_count": 3,
   "id": "798b224e",
   "metadata": {},
   "outputs": [
    {
     "name": "stdout",
     "output_type": "stream",
     "text": [
      "Hello, Python!\n"
     ]
    }
   ],
   "source": [
    "greeting = \"Hello, Python!\"\n",
    "print(greeting)"
   ]
  },
  {
   "cell_type": "markdown",
   "id": "05dd7b07",
   "metadata": {},
   "source": [
    "### Question 4: Single-line and Multi-line Comments\n",
    "\n",
    "    -Theory: Explain the purpose of comments in Python and differentiate between single-line and multi-line comments.\n",
    "    \n",
    "    -Practical: Write a Python code snippet that includes both a single-line comment and a multi-line comment."
   ]
  },
  {
   "cell_type": "markdown",
   "id": "72db41a0",
   "metadata": {},
   "source": [
    "#### Ans. \n",
    "Comments in Python serve the purpose of providing human-readable explanations or annotations within the code. \n",
    "\n",
    "##### Single-line Comments:\n",
    "\n",
    "    -Single-line comments begin with the # symbol.\n",
    "\n",
    "    -They are used for short comments on a single line.\n",
    "    \n",
    "##### Multi-line Comments:\n",
    "\n",
    "    -Multi-line comments are delimited by triple quotes (''' or \"\"\").\n",
    "\n",
    "    -They are used for longer explanations or comments spanning multiple lines."
   ]
  },
  {
   "cell_type": "code",
   "execution_count": 4,
   "id": "25f37745",
   "metadata": {},
   "outputs": [
    {
     "name": "stdout",
     "output_type": "stream",
     "text": [
      "Hello, world!\n"
     ]
    },
    {
     "data": {
      "text/plain": [
       "'\\nThis is a multi-line comment.\\nIt can span multiple lines\\nand provide detailed explanations.\\n'"
      ]
     },
     "execution_count": 4,
     "metadata": {},
     "output_type": "execute_result"
    }
   ],
   "source": [
    "print(\"Hello, world!\")  # .This is a single-line comment.\n",
    "\n",
    "'''\n",
    "This is a multi-line comment.\n",
    "It can span multiple lines\n",
    "and provide detailed explanations.\n",
    "'''"
   ]
  }
 ],
 "metadata": {
  "kernelspec": {
   "display_name": "Python 3 (ipykernel)",
   "language": "python",
   "name": "python3"
  },
  "language_info": {
   "codemirror_mode": {
    "name": "ipython",
    "version": 3
   },
   "file_extension": ".py",
   "mimetype": "text/x-python",
   "name": "python",
   "nbconvert_exporter": "python",
   "pygments_lexer": "ipython3",
   "version": "3.11.5"
  }
 },
 "nbformat": 4,
 "nbformat_minor": 5
}
